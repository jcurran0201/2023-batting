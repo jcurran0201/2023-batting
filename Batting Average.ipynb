{
 "cells": [
  {
   "cell_type": "markdown",
   "id": "3029b5ec",
   "metadata": {},
   "source": [
    "The purpose of this project is to determine which hitting metrics are the best indicators of a higher batting average. "
   ]
  },
  {
   "cell_type": "code",
   "execution_count": 1,
   "id": "e3c266bc",
   "metadata": {},
   "outputs": [],
   "source": [
    "from sklearn.linear_model import LinearRegression \n",
    "from sklearn.metrics import r2_score, mean_squared_error, mean_absolute_error,confusion_matrix   \n",
    "from sklearn.model_selection import train_test_split \n",
    "from sklearn import preprocessing  \n",
    "import matplotlib.pyplot as plt \n",
    "import seaborn as sns \n",
    "import numpy as np \n",
    "import pandas as pd  \n",
    "%matplotlib inline  \n"
   ]
  },
  {
   "cell_type": "code",
   "execution_count": 2,
   "id": "774b2a28",
   "metadata": {},
   "outputs": [],
   "source": [
    "#Files\n",
    "exit_velocity_hitters_file= 'exit_velocity_hitters.csv'  \n",
    "exit_velocity_hitters_df= pd.read_csv(exit_velocity_hitters_file)\n",
    "expected_stats_hitterscsv_file = 'expected_stats._hitterscsv 2.csv'\n",
    "expected_stats_hitterscsv_df = pd.read_csv(expected_stats_hitterscsv_file)\n",
    "#Drop columns \n",
    "exit_velocity_hitters_df.drop(['attempts','max_hit_speed','max_distance',\n",
    "                              'avg_distance', 'avg_hr_distance','barrels','ev95plus','last_name, first_name',\n",
    "                              ],axis=1,inplace=True) \n",
    "expected_stats_hitterscsv_df.drop(['last_name, first_name','year', 'pa','est_ba_minus_ba_diff',\n",
    "                                   'est_slg_minus_slg_diff',  'est_woba_minus_woba_diff'\n",
    "                              ],axis=1,inplace=True)  \n",
    "\n",
    "#Merge the columns and filter the data\n",
    "hitters=pd.merge(exit_velocity_hitters_df,expected_stats_hitterscsv_df, on='player_id') \n",
    "hitters=hitters.loc[(hitters['ba']>=.210)] "
   ]
  },
  {
   "cell_type": "markdown",
   "id": "6b5f388f",
   "metadata": {},
   "source": [
    "The purpose of filtering the data to find hitters with ba of at least .210 is to find which players had high ba and high est_ba and then deterimne which metrics are most correlated to a high ba. "
   ]
  },
  {
   "cell_type": "markdown",
   "id": "9e8b4898",
   "metadata": {},
   "source": [
    "# Find the relationship between a  BA over .210 and Avg Exit Velocity, EV50, Chase Rate, fbld, gb, brl_percent, and expected BA for hitters"
   ]
  },
  {
   "cell_type": "markdown",
   "id": "f6d3f5e1",
   "metadata": {},
   "source": [
    "## Multiple linear regression to compare average exit velocity metrics  to ba"
   ]
  },
  {
   "cell_type": "code",
   "execution_count": 187,
   "id": "5327c341",
   "metadata": {},
   "outputs": [
    {
     "name": "stdout",
     "output_type": "stream",
     "text": [
      "Predictions: [0.26280908 0.25957743], Actual Values: [0.264 0.25 ]\n"
     ]
    }
   ],
   "source": [
    "X = hitters[['ev50','avg_hit_speed','ev95percent']].values\n",
    "y = hitters['ba'].values\n",
    "#X = X.reshape(-1,len(X))  \n",
    "X_train, X_test, y_train, y_test = train_test_split(X, y,\n",
    "                                                    test_size = 0.20, \n",
    "                                                    random_state = 22, \n",
    "                                                    stratify = None)  \n",
    "linreg = LinearRegression()  \n",
    "# Fit the model to the training data\n",
    "linreg.fit(X_train, y_train)\n",
    "\n",
    "# Make predictions with test set\n",
    "y_pred = linreg.predict(X_test)\n",
    "print(\"Predictions: {}, Actual Values: {}\".format(y_pred[:2], y_test[:2]))"
   ]
  },
  {
   "cell_type": "code",
   "execution_count": 188,
   "id": "6bd28441",
   "metadata": {},
   "outputs": [
    {
     "name": "stdout",
     "output_type": "stream",
     "text": [
      "MSE: 0.0005823994072185345\n",
      "r^2: 0.09202765021609338\n"
     ]
    }
   ],
   "source": [
    "# Compute  MSE, R^2\n",
    "mse = mean_squared_error(y_test, y_pred, squared=True)\n",
    "print(\"MSE: {}\".format(mse))  \n",
    "r_score = r2_score(y_test,y_pred) \n",
    "print(\"r^2: {}\".format(r_score)) "
   ]
  },
  {
   "cell_type": "markdown",
   "id": "1cf2d5a2",
   "metadata": {},
   "source": [
    "The model is able to accuralty predict batting average despite the correlation between batting average and exit velocity metrics being very minimal"
   ]
  },
  {
   "cell_type": "code",
   "execution_count": 189,
   "id": "d01e78ca",
   "metadata": {},
   "outputs": [
    {
     "data": {
      "image/png": "[encoded data removed]",
      "text/plain": [
       "<Figure size 432x288 with 1 Axes>"
      ]
     },
     "metadata": {
      "needs_background": "light"
     },
     "output_type": "display_data"
    }
   ],
   "source": [
    "plot = sns.regplot(x=y_test, y=y_pred, ci=None, color=\"b\")  \n",
    "plot.set(xlabel='acutal ba', ylabel='predicted ba',title='Exit velocity predicted ba vs acutal ba ') \n",
    "\n",
    "plt.show()"
   ]
  },
  {
   "cell_type": "markdown",
   "id": "134dd2ca",
   "metadata": {},
   "source": [
    "## Show the Relationship between hit launch angles to ba"
   ]
  },
  {
   "cell_type": "code",
   "execution_count": 159,
   "id": "c5fd869d",
   "metadata": {},
   "outputs": [
    {
     "name": "stdout",
     "output_type": "stream",
     "text": [
      "Predictions: [0.25810707 0.25582909], Actual Values: [0.264 0.25 ]\n"
     ]
    }
   ],
   "source": [
    "X = hitters[['anglesweetspotpercent','avg_hit_angle']].values\n",
    "y = hitters['ba'].values \n",
    "X_train, X_test, y_train, y_test = train_test_split(X, y,\n",
    "                                                    test_size = 0.20, \n",
    "                                                    random_state = 22, \n",
    "                                                    stratify = None)  \n",
    "linreg = LinearRegression() \n",
    "# Fit the model to the training data\n",
    "linreg.fit(X_train, y_train)\n",
    "\n",
    "# Make predictions with test set\n",
    "y_pred = linreg.predict(X_test)\n",
    "print(\"Predictions: {}, Actual Values: {}\".format(y_pred[:2], y_test[:2]))"
   ]
  },
  {
   "cell_type": "code",
   "execution_count": 160,
   "id": "270b2d3a",
   "metadata": {},
   "outputs": [],
   "source": [
    "# Compute  MSE, R^2\n",
    "mse = mean_squared_error(y_test, y_pred, squared=True) \n",
    "r_score = r2_score(y_test,y_pred) "
   ]
  },
  {
   "cell_type": "code",
   "execution_count": 161,
   "id": "d3cccb14",
   "metadata": {},
   "outputs": [
    {
     "data": {
      "text/plain": [
       "0.2031244214248703"
      ]
     },
     "execution_count": 161,
     "metadata": {},
     "output_type": "execute_result"
    }
   ],
   "source": [
    "r_score"
   ]
  },
  {
   "cell_type": "code",
   "execution_count": 9,
   "id": "06cb7c8d",
   "metadata": {},
   "outputs": [
    {
     "data": {
      "text/plain": [
       "0.0005572567626714639"
      ]
     },
     "execution_count": 9,
     "metadata": {},
     "output_type": "execute_result"
    }
   ],
   "source": [
    "mse"
   ]
  },
  {
   "cell_type": "markdown",
   "id": "0c5c8ea6",
   "metadata": {},
   "source": [
    "The model is able to accuralty predict batting average despite the correlation between launch and exit velocity metrics being weak"
   ]
  },
  {
   "cell_type": "code",
   "execution_count": 10,
   "id": "791e240b",
   "metadata": {},
   "outputs": [
    {
     "data": {
      "image/png": "[encoded data removed]",
      "text/plain": [
       "<Figure size 432x288 with 1 Axes>"
      ]
     },
     "metadata": {
      "needs_background": "light"
     },
     "output_type": "display_data"
    }
   ],
   "source": [
    "plot = sns.regplot(x=y_test, y=y_pred, ci=None, color=\"r\")  \n",
    "plot.set(xlabel='acutal ba', ylabel='predicted ba',title='Launch predicted ba vs acutal ba ') \n",
    "\n",
    "plt.show()"
   ]
  },
  {
   "cell_type": "markdown",
   "id": "b7abb70f",
   "metadata": {},
   "source": [
    "The plot shows that hit angle and hitting the ball at the ideal launch angles is an inconsistent predictor of batting average"
   ]
  },
  {
   "cell_type": "markdown",
   "id": "bc1cbb2d",
   "metadata": {},
   "source": [
    "# Create a linear regression to show the correlation between barrel rates and ba"
   ]
  },
  {
   "cell_type": "code",
   "execution_count": 156,
   "id": "e8e90d92",
   "metadata": {},
   "outputs": [
    {
     "name": "stdout",
     "output_type": "stream",
     "text": [
      "Predictions: [0.25501327 0.2641822 ], Actual Values: [0.264 0.25 ]\n"
     ]
    }
   ],
   "source": [
    "X = hitters[['brl_percent','brl_pa',]].values\n",
    "y = hitters['ba'].values \n",
    "X_train, X_test, y_train, y_test = train_test_split(X, y,\n",
    "                                                    test_size = 0.2, \n",
    "                                                    random_state = 22, \n",
    "                                                    stratify = None)  \n",
    "linreg = LinearRegression()  \n",
    "# Fit the model to the training data\n",
    "linreg.fit(X_train, y_train)\n",
    "\n",
    "# Make predictions with test set\n",
    "y_pred = linreg.predict(X_test)\n",
    "print(\"Predictions: {}, Actual Values: {}\".format(y_pred[:2], y_test[:2]))"
   ]
  },
  {
   "cell_type": "code",
   "execution_count": 157,
   "id": "3804d904",
   "metadata": {},
   "outputs": [
    {
     "data": {
      "text/plain": [
       "0.41364328599118894"
      ]
     },
     "execution_count": 157,
     "metadata": {},
     "output_type": "execute_result"
    }
   ],
   "source": [
    "# Compute  MSE, R^2\n",
    "mse = mean_squared_error(y_test, y_pred, squared=True) \n",
    "r_score = r2_score(y_test,y_pred)  \n",
    "r_score"
   ]
  },
  {
   "cell_type": "code",
   "execution_count": 158,
   "id": "25f72242",
   "metadata": {},
   "outputs": [
    {
     "data": {
      "text/plain": [
       "0.0003761059494142232"
      ]
     },
     "execution_count": 158,
     "metadata": {},
     "output_type": "execute_result"
    }
   ],
   "source": [
    "mse"
   ]
  },
  {
   "cell_type": "markdown",
   "id": "78312428",
   "metadata": {},
   "source": [
    "The correlation between barrel rates and battting average are much higher than exit velocity and launch angle metrics"
   ]
  },
  {
   "cell_type": "code",
   "execution_count": 14,
   "id": "24931124",
   "metadata": {},
   "outputs": [
    {
     "data": {
      "image/png": "[encoded data removed]",
      "text/plain": [
       "<Figure size 432x288 with 1 Axes>"
      ]
     },
     "metadata": {
      "needs_background": "light"
     },
     "output_type": "display_data"
    }
   ],
   "source": [
    "plot = sns.regplot(x=y_test, y=y_pred, ci=None, color=\"purple\")  \n",
    "plot.set(xlabel='actual ba', ylabel='predicted ba',title='Predicting ba based on barrel rates') \n",
    "\n",
    "plt.show()"
   ]
  },
  {
   "cell_type": "markdown",
   "id": "0d511b66",
   "metadata": {},
   "source": [
    "# Take all the metrics used above and predict batting average"
   ]
  },
  {
   "cell_type": "code",
   "execution_count": 137,
   "id": "266fd1b2",
   "metadata": {},
   "outputs": [
    {
     "name": "stdout",
     "output_type": "stream",
     "text": [
      "Predictions: [0.25682836 0.26124224], Actual Values: [0.264 0.25 ]\n"
     ]
    }
   ],
   "source": [
    "X = hitters[['brl_percent','brl_pa','anglesweetspotpercent','avg_hit_angle','ev50','avg_hit_speed','ev95percent']].values\n",
    "y = hitters['ba'].values  \n",
    "X_train, X_test, y_train, y_test = train_test_split(X, y,\n",
    "                                                    test_size = 0.2, \n",
    "                                                    random_state = 22, \n",
    "                                                    stratify = None)  \n",
    "linreg = LinearRegression() \n",
    "# Fit the model to the training data\n",
    "linreg.fit(X_train, y_train)\n",
    "\n",
    "# Make predictions with test set\n",
    "y_pred = linreg.predict(X_test)\n",
    "print(\"Predictions: {}, Actual Values: {}\".format(y_pred[:2], y_test[:2])) "
   ]
  },
  {
   "cell_type": "code",
   "execution_count": 138,
   "id": "a5fc134d",
   "metadata": {},
   "outputs": [
    {
     "data": {
      "text/plain": [
       "0.6108063971131932"
      ]
     },
     "execution_count": 138,
     "metadata": {},
     "output_type": "execute_result"
    }
   ],
   "source": [
    "# Compute  MSE, R^2\n",
    "mse = mean_squared_error(y_test, y_pred, squared=True) \n",
    "r_score = r2_score(y_test,y_pred)    \n",
    "r_score"
   ]
  },
  {
   "cell_type": "code",
   "execution_count": 139,
   "id": "3f037d26",
   "metadata": {},
   "outputs": [
    {
     "data": {
      "text/plain": [
       "0.00024963989670882326"
      ]
     },
     "execution_count": 139,
     "metadata": {},
     "output_type": "execute_result"
    }
   ],
   "source": [
    "mse"
   ]
  },
  {
   "cell_type": "markdown",
   "id": "c17b969c",
   "metadata": {},
   "source": [
    "Combining different types of metrics combined are more heavily correlated to predicitng batting average, which suggests that there are lot of different variables that go into predicting if a batter will have a higher batting average. "
   ]
  },
  {
   "cell_type": "code",
   "execution_count": 140,
   "id": "ab09b8a6",
   "metadata": {},
   "outputs": [
    {
     "data": {
      "image/png": "[encoded data removed]",
      "text/plain": [
       "<Figure size 432x288 with 1 Axes>"
      ]
     },
     "metadata": {
      "needs_background": "light"
     },
     "output_type": "display_data"
    }
   ],
   "source": [
    "plot = sns.regplot(x=y_test, y=y_pred, ci=None, color=\"green\")  \n",
    "plot.set(xlabel='actual ba', ylabel='predicted ba',title='Predicting ba based on multiple types of metrics') \n",
    "\n",
    "plt.show()"
   ]
  },
  {
   "cell_type": "markdown",
   "id": "9fa70c2a",
   "metadata": {},
   "source": [
    "The project was able to show which metrics are more heavily correlated to batting averge. Barrel Rates were more heavily correlated to batting average than launch angle or exit velocity metrics. It was also discovered that none of the metrics indivdually were well correlated to batting average based on their low R^2 scores. When the metrics were combined, the R^2 score increased drastically to 0.61. The accuracy of the project could be improved by adding more metrics to the eqaution to discover if they have more to do with batting average when they are separated and when they are combined with other metrics."
   ]
  },
  {
   "cell_type": "code",
   "execution_count": null,
   "id": "5cca1187",
   "metadata": {},
   "outputs": [],
   "source": []
  }
 ],
 "metadata": {
  "kernelspec": {
   "display_name": "Python 3 (ipykernel)",
   "language": "python",
   "name": "python3"
  },
  "language_info": {
   "codemirror_mode": {
    "name": "ipython",
    "version": 3
   },
   "file_extension": ".py",
   "mimetype": "text/x-python",
   "name": "python",
   "nbconvert_exporter": "python",
   "pygments_lexer": "ipython3",
   "version": "3.9.7"
  }
 },
 "nbformat": 4,
 "nbformat_minor": 5
}
